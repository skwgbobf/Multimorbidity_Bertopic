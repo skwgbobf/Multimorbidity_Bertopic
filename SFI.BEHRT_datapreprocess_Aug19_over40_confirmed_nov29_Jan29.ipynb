{
 "cells": [
  {
   "cell_type": "code",
   "execution_count": 1,
   "id": "c2faf4fb",
   "metadata": {},
   "outputs": [
    {
     "data": {
      "text/plain": [
       "'/home/skbae/Desktop/146/cancer_conquerance/BEHRT/BEHRT/preprocess'"
      ]
     },
     "execution_count": 1,
     "metadata": {},
     "output_type": "execute_result"
    }
   ],
   "source": [
    "import os\n",
    "pt=os.getcwd()\n",
    "pt"
   ]
  },
  {
   "cell_type": "markdown",
   "metadata": {},
   "source": [
    "I. BERTopic over 40 over 6 years all data ( from 2002 to 2021)\n",
    "II. BEHRT\n",
    " -  MLM : 50%\n",
    " - ndp : AFF, Gastric cancer"
   ]
  },
  {
   "cell_type": "code",
   "execution_count": 15,
   "id": "5e4ff1c5",
   "metadata": {},
   "outputs": [],
   "source": [
    "#pip install pandas"
   ]
  },
  {
   "cell_type": "code",
   "execution_count": 2,
   "id": "e1ce9064",
   "metadata": {},
   "outputs": [],
   "source": [
    "## Import Data\n",
    "\n",
    "import pandas as pd\n",
    "import matplotlib.pyplot as plt"
   ]
  },
  {
   "cell_type": "code",
   "execution_count": 3,
   "id": "7f1396d2",
   "metadata": {},
   "outputs": [],
   "source": [
    "import os\n",
    "import json\n",
    "\n",
    "# Specify the directory containing the JSON files #/home/skbae/cancer_conquerance/Work/Mar2023/test_data/T20.pkl\n",
    "#json_dir = pt + \"/Prevalence/\"\n",
    "csv_dir = '/home/skbae/Desktop/146/cancer_conquerance/Work/Mar2023/test_data/' #Work/Mar2023/test_data' /Prevalence/"
   ]
  },
  {
   "cell_type": "code",
   "execution_count": 4,
   "id": "15ac3462",
   "metadata": {},
   "outputs": [
    {
     "data": {
      "text/plain": [
       "'/home/skbae/Desktop/146/cancer_conquerance/Work/Mar2023/test_data/'"
      ]
     },
     "execution_count": 4,
     "metadata": {},
     "output_type": "execute_result"
    }
   ],
   "source": [
    "csv_dir"
   ]
  },
  {
   "cell_type": "code",
   "execution_count": 5,
   "id": "60b4bbb5",
   "metadata": {},
   "outputs": [
    {
     "name": "stdout",
     "output_type": "stream",
     "text": [
      "DS.csv\n",
      "BFC.csv\n",
      "T20.csv\n"
     ]
    }
   ],
   "source": [
    "import pandas as pd\n",
    "import glob\n",
    "\n",
    "# Get a list of all CSV files in the directory\n",
    "#csv_files = glob.glob('*.csv')\n",
    "#glob.glob('*.csv')\n",
    "# Initialize an empty list to hold the DataFrames\n",
    "#dfs = []\n",
    "\n",
    "for filename in os.listdir(csv_dir):\n",
    "    if filename.endswith('.csv'):\n",
    "        print(filename)"
   ]
  },
  {
   "cell_type": "code",
   "execution_count": null,
   "id": "6fb26d3e",
   "metadata": {},
   "outputs": [],
   "source": [
    "#########################################################################################\n",
    "#########################################################################################\n",
    "###################################\n",
    "#PART I . Original Data Import\n",
    "\n",
    "#########################################################################################\n",
    "#########################################################################################"
   ]
  },
  {
   "cell_type": "code",
   "execution_count": 3,
   "id": "bba23fd2",
   "metadata": {},
   "outputs": [],
   "source": [
    "## Import Data\n",
    "\n",
    "import pandas as pd\n",
    "import matplotlib.pyplot as plt\n",
    "import pickle"
   ]
  },
  {
   "cell_type": "code",
   "execution_count": 10,
   "id": "78ba8c56",
   "metadata": {},
   "outputs": [],
   "source": [
    "Dis_codeF  = pd.read_csv(csv_dir + \"DS.csv\")\n",
    "\n",
    "#1. SICK codes\n",
    "# Convert the DataFrame to a pickle file\n",
    "with open('DS.pkl', 'wb') as f:\n",
    "    pickle.dump(Dis_codeF, f)\n",
    "\n",
    "\n",
    "T20 = pd.read_csv(csv_dir + \"T20.csv\")\n",
    "# Convert the DataFrame to a pickle file\n",
    "with open('T20.pkl', 'wb') as f:\n",
    "    pickle.dump(T20, f)\n",
    "\n",
    "\n",
    "BFC = pd.read_csv(csv_dir + \"BFC.csv\")\n",
    "# Convert the DataFrame to a pickle file\n",
    "#with open('data_pop.pkl', 'wb') as f:\n",
    "#    pickle.dump(pop, f)\n",
    "\n",
    "with open('BFC.pkl', 'wb') as f:\n",
    "    pickle.dump(BFC, f)"
   ]
  },
  {
   "cell_type": "code",
   "execution_count": null,
   "id": "cc4cdf41",
   "metadata": {},
   "outputs": [],
   "source": [
    "################\n",
    "### 1. New data : T20.pkl, DS.pkl, BFC.pkl"
   ]
  },
  {
   "cell_type": "code",
   "execution_count": 6,
   "id": "83e6ab55",
   "metadata": {},
   "outputs": [],
   "source": [
    "import pandas as pd\n",
    "import pickle\n",
    "\n",
    "# Load the pickle file into a variable\n",
    "# with open(csv_dir +\"DS.pkl\", 'rb') as f:\n",
    "with open('./DS.pkl', 'rb') as f:\n",
    "    data = pickle.load(f)\n",
    "# Convert the data to a Pandas DataFrame\n",
    "DS = pd.DataFrame(data)\n",
    "\n",
    "\n",
    "\n",
    "#T20\n",
    "# with open(csv_dir +\"T20.pkl\", 'rb') as f:\n",
    "with open('./T20.pkl', 'rb') as f:\n",
    "    data = pickle.load(f)\n",
    "T20 = pd.DataFrame(data)\n",
    "\n",
    "\n",
    "#pop : data_pop.pkl\n",
    "with open('./BFC.pkl', 'rb') as f: #/home/skbae/cancer_conquerance/BFC.pkl\n",
    "    data = pickle.load(f)\n",
    "BFC = pd.DataFrame(data)"
   ]
  },
  {
   "cell_type": "code",
   "execution_count": 7,
   "id": "cc91163e",
   "metadata": {},
   "outputs": [
    {
     "data": {
      "text/html": [
       "<div>\n",
       "<style scoped>\n",
       "    .dataframe tbody tr th:only-of-type {\n",
       "        vertical-align: middle;\n",
       "    }\n",
       "\n",
       "    .dataframe tbody tr th {\n",
       "        vertical-align: top;\n",
       "    }\n",
       "\n",
       "    .dataframe thead th {\n",
       "        text-align: right;\n",
       "    }\n",
       "</style>\n",
       "<table border=\"1\" class=\"dataframe\">\n",
       "  <thead>\n",
       "    <tr style=\"text-align: right;\">\n",
       "      <th></th>\n",
       "      <th>d</th>\n",
       "      <th>dname</th>\n",
       "      <th>wash_out</th>\n",
       "    </tr>\n",
       "  </thead>\n",
       "  <tbody>\n",
       "    <tr>\n",
       "      <th>0</th>\n",
       "      <td>101</td>\n",
       "      <td>Esophageal cancer</td>\n",
       "      <td>5</td>\n",
       "    </tr>\n",
       "    <tr>\n",
       "      <th>1</th>\n",
       "      <td>102</td>\n",
       "      <td>Stomach cancer</td>\n",
       "      <td>5</td>\n",
       "    </tr>\n",
       "    <tr>\n",
       "      <th>2</th>\n",
       "      <td>103</td>\n",
       "      <td>Liver cancer</td>\n",
       "      <td>5</td>\n",
       "    </tr>\n",
       "    <tr>\n",
       "      <th>3</th>\n",
       "      <td>104</td>\n",
       "      <td>Larynx cancer</td>\n",
       "      <td>5</td>\n",
       "    </tr>\n",
       "    <tr>\n",
       "      <th>4</th>\n",
       "      <td>105</td>\n",
       "      <td>Trachea, bronchus and lung cancers</td>\n",
       "      <td>5</td>\n",
       "    </tr>\n",
       "  </tbody>\n",
       "</table>\n",
       "</div>"
      ],
      "text/plain": [
       "     d                               dname  wash_out\n",
       "0  101                   Esophageal cancer         5\n",
       "1  102                      Stomach cancer         5\n",
       "2  103                        Liver cancer         5\n",
       "3  104                       Larynx cancer         5\n",
       "4  105  Trachea, bronchus and lung cancers         5"
      ]
     },
     "execution_count": 7,
     "metadata": {},
     "output_type": "execute_result"
    }
   ],
   "source": [
    "DS.head()"
   ]
  },
  {
   "cell_type": "code",
   "execution_count": 8,
   "id": "ef7e89d8",
   "metadata": {},
   "outputs": [
    {
     "data": {
      "text/html": [
       "<div>\n",
       "<style scoped>\n",
       "    .dataframe tbody tr th:only-of-type {\n",
       "        vertical-align: middle;\n",
       "    }\n",
       "\n",
       "    .dataframe tbody tr th {\n",
       "        vertical-align: top;\n",
       "    }\n",
       "\n",
       "    .dataframe thead th {\n",
       "        text-align: right;\n",
       "    }\n",
       "</style>\n",
       "<table border=\"1\" class=\"dataframe\">\n",
       "  <thead>\n",
       "    <tr style=\"text-align: right;\">\n",
       "      <th></th>\n",
       "      <th>index</th>\n",
       "      <th>SEX</th>\n",
       "      <th>ID</th>\n",
       "      <th>pct</th>\n",
       "    </tr>\n",
       "  </thead>\n",
       "  <tbody>\n",
       "    <tr>\n",
       "      <th>0</th>\n",
       "      <td>0</td>\n",
       "      <td>1</td>\n",
       "      <td>323597</td>\n",
       "      <td>0.480244</td>\n",
       "    </tr>\n",
       "    <tr>\n",
       "      <th>1</th>\n",
       "      <td>1</td>\n",
       "      <td>2</td>\n",
       "      <td>350221</td>\n",
       "      <td>0.519756</td>\n",
       "    </tr>\n",
       "  </tbody>\n",
       "</table>\n",
       "</div>"
      ],
      "text/plain": [
       "   index  SEX      ID       pct\n",
       "0      0    1  323597  0.480244\n",
       "1      1    2  350221  0.519756"
      ]
     },
     "execution_count": 8,
     "metadata": {},
     "output_type": "execute_result"
    }
   ],
   "source": [
    "# gender dist\n",
    "\n",
    "BFC_gender=BFC [['ID','SEX']].groupby(['SEX'], as_index=False).agg({\"ID\":\"nunique\"})\n",
    "BFC_gender =pd.DataFrame(BFC_gender).reset_index()\n",
    "BFC_gender['pct']=BFC_gender['ID'] /len(BFC)\n",
    "BFC_gender"
   ]
  },
  {
   "cell_type": "code",
   "execution_count": 9,
   "id": "dd1c3330",
   "metadata": {},
   "outputs": [
    {
     "data": {
      "text/html": [
       "<div>\n",
       "<style scoped>\n",
       "    .dataframe tbody tr th:only-of-type {\n",
       "        vertical-align: middle;\n",
       "    }\n",
       "\n",
       "    .dataframe tbody tr th {\n",
       "        vertical-align: top;\n",
       "    }\n",
       "\n",
       "    .dataframe thead th {\n",
       "        text-align: right;\n",
       "    }\n",
       "</style>\n",
       "<table border=\"1\" class=\"dataframe\">\n",
       "  <thead>\n",
       "    <tr style=\"text-align: right;\">\n",
       "      <th></th>\n",
       "      <th>ID</th>\n",
       "      <th>SEX</th>\n",
       "      <th>AGE</th>\n",
       "      <th>GAIBJA</th>\n",
       "      <th>AgeGroup</th>\n",
       "    </tr>\n",
       "  </thead>\n",
       "  <tbody>\n",
       "    <tr>\n",
       "      <th>0</th>\n",
       "      <td>1</td>\n",
       "      <td>2</td>\n",
       "      <td>51</td>\n",
       "      <td>2</td>\n",
       "      <td>50s</td>\n",
       "    </tr>\n",
       "    <tr>\n",
       "      <th>1</th>\n",
       "      <td>2</td>\n",
       "      <td>2</td>\n",
       "      <td>19</td>\n",
       "      <td>6</td>\n",
       "      <td>below 20</td>\n",
       "    </tr>\n",
       "    <tr>\n",
       "      <th>2</th>\n",
       "      <td>3</td>\n",
       "      <td>2</td>\n",
       "      <td>71</td>\n",
       "      <td>7</td>\n",
       "      <td>70s</td>\n",
       "    </tr>\n",
       "    <tr>\n",
       "      <th>3</th>\n",
       "      <td>4</td>\n",
       "      <td>1</td>\n",
       "      <td>51</td>\n",
       "      <td>1</td>\n",
       "      <td>50s</td>\n",
       "    </tr>\n",
       "    <tr>\n",
       "      <th>4</th>\n",
       "      <td>5</td>\n",
       "      <td>2</td>\n",
       "      <td>49</td>\n",
       "      <td>5</td>\n",
       "      <td>40s</td>\n",
       "    </tr>\n",
       "  </tbody>\n",
       "</table>\n",
       "</div>"
      ],
      "text/plain": [
       "   ID  SEX  AGE  GAIBJA  AgeGroup\n",
       "0   1    2   51       2       50s\n",
       "1   2    2   19       6  below 20\n",
       "2   3    2   71       7       70s\n",
       "3   4    1   51       1       50s\n",
       "4   5    2   49       5       40s"
      ]
     },
     "execution_count": 9,
     "metadata": {},
     "output_type": "execute_result"
    }
   ],
   "source": [
    "# Age dist\n",
    "bins= [0,20,30,40,50,60,70,80,90,110]\n",
    "labels = ['below 20','20s','30s','40s','50s','60s','70s','80s','90s+']\n",
    "BFC['AgeGroup'] = pd.cut(BFC['AGE'], bins=bins, labels=labels, right=False)\n",
    "BFC.head()"
   ]
  },
  {
   "cell_type": "code",
   "execution_count": 10,
   "id": "a82e272a",
   "metadata": {},
   "outputs": [],
   "source": [
    "# aggrgating data\n",
    "age_p = BFC.groupby('AgeGroup')['ID'].count()\n",
    "#age_p"
   ]
  },
  {
   "cell_type": "code",
   "execution_count": 11,
   "id": "c214a1fe",
   "metadata": {},
   "outputs": [
    {
     "data": {
      "text/plain": [
       "Text(0, 0.5, 'Counter of Patients')"
      ]
     },
     "execution_count": 11,
     "metadata": {},
     "output_type": "execute_result"
    },
    {
     "data": {
      "image/png": "[encoded data removed]",
      "text/plain": [
       "<Figure size 640x480 with 1 Axes>"
      ]
     },
     "metadata": {},
     "output_type": "display_data"
    }
   ],
   "source": [
    "plt.figure(); \n",
    "age_p.plot.bar(title='Fig.No.1 : SIMPLE BAR CHART (Counter of Patients by Age)', color='darkorange'); \n",
    "plt.xlabel('Age'); plt.ylabel('Counter of Patients') "
   ]
  },
  {
   "cell_type": "code",
   "execution_count": null,
   "id": "382c8b49",
   "metadata": {},
   "outputs": [],
   "source": [
    "# merge disease and age,gender"
   ]
  },
  {
   "cell_type": "code",
   "execution_count": 12,
   "id": "993451fc",
   "metadata": {},
   "outputs": [],
   "source": [
    "T20_BFC=pd.merge(T20 , BFC, how='left', on='ID')"
   ]
  },
  {
   "cell_type": "code",
   "execution_count": 13,
   "id": "00280aad",
   "metadata": {},
   "outputs": [
    {
     "name": "stdout",
     "output_type": "stream",
     "text": [
      "3821172\n"
     ]
    },
    {
     "data": {
      "text/html": [
       "<div>\n",
       "<style scoped>\n",
       "    .dataframe tbody tr th:only-of-type {\n",
       "        vertical-align: middle;\n",
       "    }\n",
       "\n",
       "    .dataframe tbody tr th {\n",
       "        vertical-align: top;\n",
       "    }\n",
       "\n",
       "    .dataframe thead th {\n",
       "        text-align: right;\n",
       "    }\n",
       "</style>\n",
       "<table border=\"1\" class=\"dataframe\">\n",
       "  <thead>\n",
       "    <tr style=\"text-align: right;\">\n",
       "      <th></th>\n",
       "      <th>YEAR</th>\n",
       "      <th>ID</th>\n",
       "      <th>d</th>\n",
       "      <th>SEX</th>\n",
       "      <th>AGE</th>\n",
       "      <th>GAIBJA</th>\n",
       "      <th>AgeGroup</th>\n",
       "    </tr>\n",
       "  </thead>\n",
       "  <tbody>\n",
       "    <tr>\n",
       "      <th>0</th>\n",
       "      <td>2006</td>\n",
       "      <td>1</td>\n",
       "      <td>219</td>\n",
       "      <td>2</td>\n",
       "      <td>51</td>\n",
       "      <td>2</td>\n",
       "      <td>50s</td>\n",
       "    </tr>\n",
       "    <tr>\n",
       "      <th>1</th>\n",
       "      <td>2007</td>\n",
       "      <td>1</td>\n",
       "      <td>219</td>\n",
       "      <td>2</td>\n",
       "      <td>51</td>\n",
       "      <td>2</td>\n",
       "      <td>50s</td>\n",
       "    </tr>\n",
       "  </tbody>\n",
       "</table>\n",
       "</div>"
      ],
      "text/plain": [
       "   YEAR  ID    d  SEX  AGE  GAIBJA AgeGroup\n",
       "0  2006   1  219    2   51       2      50s\n",
       "1  2007   1  219    2   51       2      50s"
      ]
     },
     "execution_count": 13,
     "metadata": {},
     "output_type": "execute_result"
    }
   ],
   "source": [
    "# age over 40\n",
    "T20_BFC_over40=T20_BFC.loc[T20_BFC['AGE'] > 39]\n",
    "print(len(T20_BFC_over40))\n",
    "T20_BFC_over40.head(2)"
   ]
  },
  {
   "cell_type": "code",
   "execution_count": 14,
   "id": "d748ff8f",
   "metadata": {},
   "outputs": [
    {
     "name": "stderr",
     "output_type": "stream",
     "text": [
      "/tmp/ipykernel_197826/790051965.py:6: SettingWithCopyWarning: \n",
      "A value is trying to be set on a copy of a slice from a DataFrame.\n",
      "Try using .loc[row_indexer,col_indexer] = value instead\n",
      "\n",
      "See the caveats in the documentation: https://pandas.pydata.org/pandas-docs/stable/user_guide/indexing.html#returning-a-view-versus-a-copy\n",
      "  T20_BFC_over40['AGE2'] = T20_BFC_over40['YEAR'].astype('int64')-2002 +T20_BFC_over40['AGE'].astype('int64')\n"
     ]
    }
   ],
   "source": [
    "# age per year\n",
    "# 1. all age\n",
    "T20_BFC['AGE2'] = T20_BFC['YEAR'].astype('int64')-2002 +T20_BFC['AGE'].astype('int64')\n",
    "\n",
    "#2. over 40\n",
    "T20_BFC_over40['AGE2'] = T20_BFC_over40['YEAR'].astype('int64')-2002 +T20_BFC_over40['AGE'].astype('int64')"
   ]
  },
  {
   "cell_type": "code",
   "execution_count": 15,
   "id": "7cde0e02",
   "metadata": {},
   "outputs": [
    {
     "data": {
      "text/html": [
       "<div>\n",
       "<style scoped>\n",
       "    .dataframe tbody tr th:only-of-type {\n",
       "        vertical-align: middle;\n",
       "    }\n",
       "\n",
       "    .dataframe tbody tr th {\n",
       "        vertical-align: top;\n",
       "    }\n",
       "\n",
       "    .dataframe thead th {\n",
       "        text-align: right;\n",
       "    }\n",
       "</style>\n",
       "<table border=\"1\" class=\"dataframe\">\n",
       "  <thead>\n",
       "    <tr style=\"text-align: right;\">\n",
       "      <th></th>\n",
       "      <th>YEAR</th>\n",
       "      <th>ID</th>\n",
       "      <th>d</th>\n",
       "      <th>SEX</th>\n",
       "      <th>AGE</th>\n",
       "      <th>GAIBJA</th>\n",
       "      <th>AgeGroup</th>\n",
       "      <th>AGE2</th>\n",
       "    </tr>\n",
       "  </thead>\n",
       "  <tbody>\n",
       "    <tr>\n",
       "      <th>0</th>\n",
       "      <td>2006</td>\n",
       "      <td>1</td>\n",
       "      <td>219</td>\n",
       "      <td>2</td>\n",
       "      <td>51</td>\n",
       "      <td>2</td>\n",
       "      <td>50s</td>\n",
       "      <td>55</td>\n",
       "    </tr>\n",
       "    <tr>\n",
       "      <th>1</th>\n",
       "      <td>2007</td>\n",
       "      <td>1</td>\n",
       "      <td>219</td>\n",
       "      <td>2</td>\n",
       "      <td>51</td>\n",
       "      <td>2</td>\n",
       "      <td>50s</td>\n",
       "      <td>56</td>\n",
       "    </tr>\n",
       "    <tr>\n",
       "      <th>2</th>\n",
       "      <td>2009</td>\n",
       "      <td>1</td>\n",
       "      <td>221</td>\n",
       "      <td>2</td>\n",
       "      <td>51</td>\n",
       "      <td>2</td>\n",
       "      <td>50s</td>\n",
       "      <td>58</td>\n",
       "    </tr>\n",
       "    <tr>\n",
       "      <th>3</th>\n",
       "      <td>2010</td>\n",
       "      <td>1</td>\n",
       "      <td>219</td>\n",
       "      <td>2</td>\n",
       "      <td>51</td>\n",
       "      <td>2</td>\n",
       "      <td>50s</td>\n",
       "      <td>59</td>\n",
       "    </tr>\n",
       "    <tr>\n",
       "      <th>4</th>\n",
       "      <td>2011</td>\n",
       "      <td>1</td>\n",
       "      <td>221</td>\n",
       "      <td>2</td>\n",
       "      <td>51</td>\n",
       "      <td>2</td>\n",
       "      <td>50s</td>\n",
       "      <td>60</td>\n",
       "    </tr>\n",
       "  </tbody>\n",
       "</table>\n",
       "</div>"
      ],
      "text/plain": [
       "   YEAR  ID    d  SEX  AGE  GAIBJA AgeGroup  AGE2\n",
       "0  2006   1  219    2   51       2      50s    55\n",
       "1  2007   1  219    2   51       2      50s    56\n",
       "2  2009   1  221    2   51       2      50s    58\n",
       "3  2010   1  219    2   51       2      50s    59\n",
       "4  2011   1  221    2   51       2      50s    60"
      ]
     },
     "execution_count": 15,
     "metadata": {},
     "output_type": "execute_result"
    }
   ],
   "source": [
    "T20_BFC.head()"
   ]
  },
  {
   "cell_type": "code",
   "execution_count": 16,
   "id": "d7ee8be6",
   "metadata": {},
   "outputs": [
    {
     "data": {
      "text/html": [
       "<div>\n",
       "<style scoped>\n",
       "    .dataframe tbody tr th:only-of-type {\n",
       "        vertical-align: middle;\n",
       "    }\n",
       "\n",
       "    .dataframe tbody tr th {\n",
       "        vertical-align: top;\n",
       "    }\n",
       "\n",
       "    .dataframe thead th {\n",
       "        text-align: right;\n",
       "    }\n",
       "</style>\n",
       "<table border=\"1\" class=\"dataframe\">\n",
       "  <thead>\n",
       "    <tr style=\"text-align: right;\">\n",
       "      <th></th>\n",
       "      <th>YEAR</th>\n",
       "      <th>ID</th>\n",
       "      <th>d</th>\n",
       "      <th>SEX</th>\n",
       "      <th>AGE</th>\n",
       "      <th>GAIBJA</th>\n",
       "      <th>AgeGroup</th>\n",
       "      <th>AGE2</th>\n",
       "    </tr>\n",
       "  </thead>\n",
       "  <tbody>\n",
       "    <tr>\n",
       "      <th>0</th>\n",
       "      <td>2006</td>\n",
       "      <td>1</td>\n",
       "      <td>219</td>\n",
       "      <td>2</td>\n",
       "      <td>51</td>\n",
       "      <td>2</td>\n",
       "      <td>50s</td>\n",
       "      <td>55</td>\n",
       "    </tr>\n",
       "    <tr>\n",
       "      <th>1</th>\n",
       "      <td>2007</td>\n",
       "      <td>1</td>\n",
       "      <td>219</td>\n",
       "      <td>2</td>\n",
       "      <td>51</td>\n",
       "      <td>2</td>\n",
       "      <td>50s</td>\n",
       "      <td>56</td>\n",
       "    </tr>\n",
       "    <tr>\n",
       "      <th>2</th>\n",
       "      <td>2009</td>\n",
       "      <td>1</td>\n",
       "      <td>221</td>\n",
       "      <td>2</td>\n",
       "      <td>51</td>\n",
       "      <td>2</td>\n",
       "      <td>50s</td>\n",
       "      <td>58</td>\n",
       "    </tr>\n",
       "    <tr>\n",
       "      <th>3</th>\n",
       "      <td>2010</td>\n",
       "      <td>1</td>\n",
       "      <td>219</td>\n",
       "      <td>2</td>\n",
       "      <td>51</td>\n",
       "      <td>2</td>\n",
       "      <td>50s</td>\n",
       "      <td>59</td>\n",
       "    </tr>\n",
       "    <tr>\n",
       "      <th>4</th>\n",
       "      <td>2011</td>\n",
       "      <td>1</td>\n",
       "      <td>221</td>\n",
       "      <td>2</td>\n",
       "      <td>51</td>\n",
       "      <td>2</td>\n",
       "      <td>50s</td>\n",
       "      <td>60</td>\n",
       "    </tr>\n",
       "  </tbody>\n",
       "</table>\n",
       "</div>"
      ],
      "text/plain": [
       "   YEAR  ID    d  SEX  AGE  GAIBJA AgeGroup  AGE2\n",
       "0  2006   1  219    2   51       2      50s    55\n",
       "1  2007   1  219    2   51       2      50s    56\n",
       "2  2009   1  221    2   51       2      50s    58\n",
       "3  2010   1  219    2   51       2      50s    59\n",
       "4  2011   1  221    2   51       2      50s    60"
      ]
     },
     "execution_count": 16,
     "metadata": {},
     "output_type": "execute_result"
    }
   ],
   "source": [
    "T20_BFC_over40.head()"
   ]
  },
  {
   "cell_type": "code",
   "execution_count": null,
   "id": "3b84da50",
   "metadata": {},
   "outputs": [],
   "source": [
    "#########################################################################################\n",
    "#########################################################################################\n",
    "###################################\n",
    "#PART II . Vocaburary and path\n",
    "#########################################################################################\n",
    "#########################################################################################"
   ]
  },
  {
   "cell_type": "code",
   "execution_count": 32,
   "id": "3ac9f861",
   "metadata": {},
   "outputs": [
    {
     "name": "stdout",
     "output_type": "stream",
     "text": [
      "   index  YEAR  ID  AGE  d\n",
      "0      0  2002   4   51  1\n",
      "1      1  2002  11   28  1\n",
      "2      2  2002  14   65  1\n",
      "3      3  2002  15   55  1\n",
      "4      4  2002  25   35  1\n",
      "     index ID    d                                     ...   AGE              \\\n",
      "YEAR          2002 2003 2004 2005 2006 2007 2008 2009  ...  2010  2011  2012   \n",
      "0        0  1  0.0  0.0  0.0  0.0  1.0  1.0  0.0  1.0  ...  51.0  51.0  51.0   \n",
      "1        1  3  0.0  0.0  0.0  0.0  1.0  2.0  0.0  2.0  ...  71.0  71.0  71.0   \n",
      "2        2  4  1.0  1.0  1.0  2.0  1.0  1.0  1.0  1.0  ...  51.0  51.0  51.0   \n",
      "3        3  5  0.0  0.0  0.0  0.0  0.0  0.0  0.0  0.0  ...   0.0   0.0   0.0   \n",
      "4        4  6  0.0  1.0  0.0  0.0  0.0  0.0  0.0  0.0  ...   0.0   0.0   0.0   \n",
      "\n",
      "                                                \n",
      "YEAR  2013  2014  2015  2016  2017  2018  2019  \n",
      "0     51.0   0.0  51.0  51.0  51.0  51.0  51.0  \n",
      "1     71.0  71.0  71.0  71.0  71.0  71.0  71.0  \n",
      "2     51.0  51.0  51.0  51.0  51.0  51.0  51.0  \n",
      "3      0.0   0.0   0.0  49.0   0.0  49.0  49.0  \n",
      "4      0.0   0.0   0.0   0.0   0.0   0.0   0.0  \n",
      "\n",
      "[5 rows x 38 columns]\n"
     ]
    }
   ],
   "source": [
    "data=T20_BFC\n",
    "year_cnt=data[['d','ID','YEAR','AGE']].groupby(['YEAR','ID','AGE'], as_index=False).agg({\"d\":\"nunique\"})\n",
    "year_cnt=pd.DataFrame(year_cnt).reset_index()\n",
    "print(year_cnt.head())\n",
    "\n",
    "# pivot \n",
    "year_cnt2=year_cnt.pivot(index=\"ID\", columns=[\"YEAR\"],values=[\"d\",\"AGE\"]) #values=\"SICK\"\n",
    "year_cnt2=pd.DataFrame(year_cnt2).reset_index()\n",
    "year_cnt2=year_cnt2.apply(lambda x: x.fillna(0), axis=0)\n",
    "year_cnt2=pd.DataFrame(year_cnt2).reset_index()\n",
    "print(year_cnt2.head())\n",
    "C= max(year_cnt.d)"
   ]
  },
  {
   "cell_type": "code",
   "execution_count": 11,
   "id": "1cd10dce",
   "metadata": {},
   "outputs": [],
   "source": [
    "max_len = C # 12 # 25 \n",
    "#max_len = max(a,b) # a = a=max(sc_year_cnt.SICK),46,  b=max(nsc_year_cnt.SICK), 73\n",
    "\n",
    "\n",
    "\n",
    "# 최대 길이에 맞춰 0 패딩\n",
    "def padding(x):\n",
    "    pad = np.zeros(max_len-len(x))\n",
    "    x.extend(pad)\n",
    "    return x"
   ]
  },
  {
   "cell_type": "code",
   "execution_count": 12,
   "id": "3b913f4b",
   "metadata": {},
   "outputs": [],
   "source": [
    "import numpy as np\n",
    "\n",
    "def voc(data):\n",
    "    #####################\n",
    "    ####input data \n",
    "    #data=prev3_icd_age\n",
    "\n",
    "    data_cnt = (data.groupby(['YEAR','ID'])).agg({'d': lambda x: x.tolist()})\n",
    "    data_cnt=pd.DataFrame(data_cnt).reset_index()\n",
    "\n",
    "\n",
    "    # 1. padding for each year \n",
    "    #data_cnt['SICK'] = data_cnt['SICK'].map(lambda x: x[:max_len] if len(x) > max_len else padding(x))\n",
    "\n",
    "    # 2. without padding\n",
    "    data_cnt['d2'] = data_cnt['d']\n",
    "\n",
    "    # 모든 itemid를 순서대로 0 ~ len(unique_codes) key로, value는 실제 codes.\n",
    "    # vocab index가 1부터 시작\n",
    "    # 보통의 경우 index = 0 부터 시작을 하니까 vocab size가 589 \n",
    "    sample = data_cnt\n",
    "\n",
    "    #codes_unique1 = [item for items in sample['SICK'] for item in items]\n",
    "    codes_unique2 = [item for items in sample['d2'] for item in items]\n",
    "    #codes_unique = [item for items in df_last['ITEMID'] for item in items]\n",
    "    #vocab1 = dict(zip(set(codes_unique1), range(1,len(set(codes_unique1))+1))) # 0 for pad\n",
    "    vocab2=dict(zip(set(codes_unique2), range(1,len(set(codes_unique2))+1))) # 0 for pad\n",
    "    #print(\"vocab\", vocab1)\n",
    "    #print('vocab1 size is .. ', len(vocab1))\n",
    "    print('vocab2 without padding 0 size is .. ', len(vocab2))\n",
    "    return vocab2"
   ]
  },
  {
   "cell_type": "code",
   "execution_count": null,
   "id": "3162d065",
   "metadata": {},
   "outputs": [],
   "source": [
    "vocab2=voc(T20_BFC)"
   ]
  },
  {
   "cell_type": "code",
   "execution_count": null,
   "id": "21489389",
   "metadata": {},
   "outputs": [],
   "source": [
    "print('vocab2 size is .. ', len(vocab2))"
   ]
  },
  {
   "cell_type": "code",
   "execution_count": null,
   "id": "f8615057",
   "metadata": {},
   "outputs": [],
   "source": [
    "import numpy as np\n",
    "data= T20_BFC#T20_BFC_over40 #prev3_icd_age\n",
    "\n",
    "\n",
    "data_cnt = (data.groupby(['YEAR','ID'])).agg({'d': lambda x: x.tolist()})\n",
    "data_cnt=pd.DataFrame(data_cnt).reset_index()\n",
    "\n",
    "\n",
    "# padding for each year \n",
    "data_cnt['d'] = data_cnt['d'].map(lambda x: x[:max_len] if len(x) > max_len else padding(x))\n",
    "data_cnt['d2'] = data_cnt['d']\n",
    "\n",
    "# 모든 itemid를 순서대로 0 ~ len(unique_codes) key로, value는 실제 codes.\n",
    "# vocab index가 1부터 시작\n",
    "# 보통의 경우 index = 0 부터 시작을 하니까 vocab size가 589 \n",
    "sample = data_cnt\n",
    "\n",
    "codes_unique1 = [item for items in sample['d'] for item in items]\n",
    "#codes_unique2 = [item for items in sample['SICK2'] for item in items]\n",
    "#codes_unique = [item for items in df_last['ITEMID'] for item in items]\n",
    "vocab1 = dict(zip(set(codes_unique1), range(1,len(set(codes_unique1))+1))) # 0 for pad\n",
    "#vocab2=dict(zip(set(codes_unique2), range(1,len(set(codes_unique2))+1))) # 0 for pad\n",
    "#print(\"vocab\", vocab1)\n",
    "print('vocab1 size is .. ', len(vocab1))"
   ]
  },
  {
   "cell_type": "code",
   "execution_count": null,
   "id": "65959495",
   "metadata": {},
   "outputs": [],
   "source": [
    "print('vocab1 size is .. ', len(vocab1))"
   ]
  },
  {
   "cell_type": "code",
   "execution_count": null,
   "id": "2cf6a738",
   "metadata": {},
   "outputs": [],
   "source": [
    "import pickle\n",
    "\n",
    "#pet_stats = {'name':\"\", 'int':1, 'bool':False}\n",
    "#vocab1\n",
    "\n",
    "with open('vocab1_new.pickle', 'wb') as f:\n",
    "    # Pickle the 'data' dictionary using the highest protocol available.\n",
    "    pickle.dump(vocab1, f, pickle.HIGHEST_PROTOCOL)\n",
    "\n",
    "\n",
    "import pickle\n",
    "\n",
    "#pet_stats = {'name':\"\", 'int':1, 'bool':False}\n",
    "#vocab1\n",
    "\n",
    "with open('vocab2_new.pickle', 'wb') as f:\n",
    "    # Pickle the 'data' dictionary using the highest protocol available.\n",
    "    pickle.dump(vocab2, f, pickle.HIGHEST_PROTOCOL)"
   ]
  },
  {
   "cell_type": "code",
   "execution_count": null,
   "id": "74a987c7",
   "metadata": {},
   "outputs": [],
   "source": [
    "# Import Dictionary"
   ]
  },
  {
   "cell_type": "code",
   "execution_count": 17,
   "id": "c6eafa41",
   "metadata": {},
   "outputs": [],
   "source": [
    "import pickle  # /home/skbae/cancer_conquerance/vocab1_new.pickle\n",
    "\n",
    "with open('../../../vocab2_new.pickle', 'rb') as f:\n",
    "    # The protocol version used is detected automatically, so we do not\n",
    "    # have to specify it.\n",
    "    vocab2 = pickle.load(f)\n",
    "\n",
    "\n",
    "import pickle\n",
    "\n",
    "with open('../../../vocab1_new.pickle', 'rb') as f:\n",
    "    # The protocol version used is detected automatically, so we do not\n",
    "    # have to specify it.\n",
    "    vocab1 = pickle.load(f)"
   ]
  },
  {
   "cell_type": "code",
   "execution_count": null,
   "id": "b04c63bb",
   "metadata": {},
   "outputs": [],
   "source": [
    "#########################################################################################\n",
    "#########################################################################################\n",
    "###################################\n",
    "#PART III . MLM data preprocessing : data formatting before embedding\n",
    "#########################################################################################\n",
    "#########################################################################################"
   ]
  },
  {
   "cell_type": "code",
   "execution_count": null,
   "id": "2b06ef2f",
   "metadata": {},
   "outputs": [],
   "source": [
    "# T20_BFC"
   ]
  },
  {
   "cell_type": "code",
   "execution_count": 33,
   "id": "535ed98c",
   "metadata": {},
   "outputs": [
    {
     "data": {
      "text/html": [
       "<div>\n",
       "<style scoped>\n",
       "    .dataframe tbody tr th:only-of-type {\n",
       "        vertical-align: middle;\n",
       "    }\n",
       "\n",
       "    .dataframe tbody tr th {\n",
       "        vertical-align: top;\n",
       "    }\n",
       "\n",
       "    .dataframe thead th {\n",
       "        text-align: right;\n",
       "    }\n",
       "</style>\n",
       "<table border=\"1\" class=\"dataframe\">\n",
       "  <thead>\n",
       "    <tr style=\"text-align: right;\">\n",
       "      <th></th>\n",
       "      <th>YEAR</th>\n",
       "      <th>ID</th>\n",
       "      <th>d</th>\n",
       "      <th>AGE2</th>\n",
       "    </tr>\n",
       "  </thead>\n",
       "  <tbody>\n",
       "    <tr>\n",
       "      <th>4984041</th>\n",
       "      <td>2012</td>\n",
       "      <td>673814</td>\n",
       "      <td>134</td>\n",
       "      <td>83</td>\n",
       "    </tr>\n",
       "    <tr>\n",
       "      <th>4984042</th>\n",
       "      <td>2012</td>\n",
       "      <td>673814</td>\n",
       "      <td>139</td>\n",
       "      <td>83</td>\n",
       "    </tr>\n",
       "    <tr>\n",
       "      <th>4984043</th>\n",
       "      <td>2012</td>\n",
       "      <td>673815</td>\n",
       "      <td>147</td>\n",
       "      <td>34</td>\n",
       "    </tr>\n",
       "    <tr>\n",
       "      <th>4984044</th>\n",
       "      <td>2006</td>\n",
       "      <td>673816</td>\n",
       "      <td>136</td>\n",
       "      <td>41</td>\n",
       "    </tr>\n",
       "    <tr>\n",
       "      <th>4984045</th>\n",
       "      <td>2007</td>\n",
       "      <td>673816</td>\n",
       "      <td>136</td>\n",
       "      <td>42</td>\n",
       "    </tr>\n",
       "    <tr>\n",
       "      <th>4984046</th>\n",
       "      <td>2008</td>\n",
       "      <td>673816</td>\n",
       "      <td>136</td>\n",
       "      <td>43</td>\n",
       "    </tr>\n",
       "    <tr>\n",
       "      <th>4984047</th>\n",
       "      <td>2009</td>\n",
       "      <td>673816</td>\n",
       "      <td>136</td>\n",
       "      <td>44</td>\n",
       "    </tr>\n",
       "    <tr>\n",
       "      <th>4984048</th>\n",
       "      <td>2010</td>\n",
       "      <td>673816</td>\n",
       "      <td>136</td>\n",
       "      <td>45</td>\n",
       "    </tr>\n",
       "    <tr>\n",
       "      <th>4984049</th>\n",
       "      <td>2011</td>\n",
       "      <td>673816</td>\n",
       "      <td>136</td>\n",
       "      <td>46</td>\n",
       "    </tr>\n",
       "    <tr>\n",
       "      <th>4984050</th>\n",
       "      <td>2012</td>\n",
       "      <td>673816</td>\n",
       "      <td>136</td>\n",
       "      <td>47</td>\n",
       "    </tr>\n",
       "    <tr>\n",
       "      <th>4984051</th>\n",
       "      <td>2013</td>\n",
       "      <td>673816</td>\n",
       "      <td>136</td>\n",
       "      <td>48</td>\n",
       "    </tr>\n",
       "    <tr>\n",
       "      <th>4984052</th>\n",
       "      <td>2014</td>\n",
       "      <td>673816</td>\n",
       "      <td>136</td>\n",
       "      <td>49</td>\n",
       "    </tr>\n",
       "    <tr>\n",
       "      <th>4984053</th>\n",
       "      <td>2006</td>\n",
       "      <td>673817</td>\n",
       "      <td>152</td>\n",
       "      <td>47</td>\n",
       "    </tr>\n",
       "    <tr>\n",
       "      <th>4984054</th>\n",
       "      <td>2009</td>\n",
       "      <td>673817</td>\n",
       "      <td>162</td>\n",
       "      <td>50</td>\n",
       "    </tr>\n",
       "    <tr>\n",
       "      <th>4984055</th>\n",
       "      <td>2012</td>\n",
       "      <td>673817</td>\n",
       "      <td>142</td>\n",
       "      <td>53</td>\n",
       "    </tr>\n",
       "  </tbody>\n",
       "</table>\n",
       "</div>"
      ],
      "text/plain": [
       "         YEAR      ID    d  AGE2\n",
       "4984041  2012  673814  134    83\n",
       "4984042  2012  673814  139    83\n",
       "4984043  2012  673815  147    34\n",
       "4984044  2006  673816  136    41\n",
       "4984045  2007  673816  136    42\n",
       "4984046  2008  673816  136    43\n",
       "4984047  2009  673816  136    44\n",
       "4984048  2010  673816  136    45\n",
       "4984049  2011  673816  136    46\n",
       "4984050  2012  673816  136    47\n",
       "4984051  2013  673816  136    48\n",
       "4984052  2014  673816  136    49\n",
       "4984053  2006  673817  152    47\n",
       "4984054  2009  673817  162    50\n",
       "4984055  2012  673817  142    53"
      ]
     },
     "execution_count": 33,
     "metadata": {},
     "output_type": "execute_result"
    }
   ],
   "source": [
    "T20_BFC[['YEAR','ID','d','AGE2']].tail(15)"
   ]
  },
  {
   "cell_type": "code",
   "execution_count": null,
   "id": "701b5acb",
   "metadata": {},
   "outputs": [],
   "source": [
    "# T20_BFC_over40"
   ]
  },
  {
   "cell_type": "code",
   "execution_count": 18,
   "id": "e9f1675b",
   "metadata": {},
   "outputs": [
    {
     "data": {
      "text/plain": [
       "3821172"
      ]
     },
     "execution_count": 18,
     "metadata": {},
     "output_type": "execute_result"
    }
   ],
   "source": [
    "len(T20_BFC_over40)"
   ]
  },
  {
   "cell_type": "code",
   "execution_count": null,
   "id": "18b8ed3a",
   "metadata": {},
   "outputs": [],
   "source": [
    "# from common.spark import spark_init, read_parquet, read_txt\n",
    "# from CPRD.tabel import EHR\n",
    "# import pyspark.sql.functions as F\n",
    "# from pyspark.sql import Window\n",
    "\n",
    "# spark = spark_init()\n",
    "\n",
    "# config= {\n",
    "#     'diagnoses': '',  # data path for diagnoses/medication\n",
    "#     'demographic': '',  # data path for demographic information\n",
    "#     'output': '',  # path to save formated file\n",
    "#     'col_name': ''  # column name for ICD/Med code\n",
    "# }\n",
    "\n",
    "# diagnoses = read_parquet(spark.sqlContext, config['diagnoses']).select(['patid','eventdate',config['col_name']]).na.drop().select(['patid','eventdate', config['col_name']])\n",
    "# demographic = read_parquet(spark.sqlContext, config['demographic'])\n",
    "\n",
    "# diagnoses = diagnoses.na.drop()\n",
    "# diagnoses = diagnoses.dropDuplicates()\n",
    "\n",
    "# # demographic data\n",
    "# demographic = demographic.select(['patid', 'yob'])\n",
    "# diagnoses= diagnoses.join(demographic, diagnoses.patid == demographic.patid, 'inner').drop(demographic.patid)\n",
    "# diagnoses = EHR(diagnoses).cal_age('eventdate', 'yob', year=False).select(['patid', 'eventdate', 'age', config['col_name'], 'yob'])\n",
    "# diagnoses = diagnoses.dropDuplicates()\n",
    "\n",
    "# # set age and code to string\n",
    "# diagnoses = EHR(diagnoses).set_col_to_str('age').set_col_to_str(config['col_name'])\n",
    "# # group by date\n",
    "# diagnoses = diagnoses.groupby(['patid', 'eventdate']).agg(F.collect_list(config['col_name']).alias(config['col_name']), F.collect_list('age').alias('age'), F.first('yob').alias('yob'))\n",
    "# diagnoses = EHR(diagnoses).array_add_element(config['col_name'], 'SEP')\n",
    "\n",
    "# # add extra age to fill the gap of sep\n",
    "# extract_age = F.udf(lambda x: x[0])\n",
    "# diagnoses = diagnoses.withColumn('age_temp', extract_age('age')).withColumn('age', F.concat(F.col('age'),F.array(F.col('age_temp')))).drop('age_temp')\n",
    "\n",
    "# w = Window.partitionBy('patid').orderBy('eventdate')\n",
    "# # sort and merge ccs and age\n",
    "# diagnoses = diagnoses.withColumn(config['col_name'], F.collect_list(config['col_name']).over(w)).withColumn('age', F.collect_list('age').over(w)).groupBy('patid').agg(F.max(config['col_name']).alias(config['col_name']), F.max('age').alias('age'))\n",
    "\n",
    "# diagnoses = EHR(diagnoses).array_flatten(config['col_name']).array_flatten('age')\n",
    "# diagnoses.write.parquet(config['output'])"
   ]
  },
  {
   "cell_type": "code",
   "execution_count": null,
   "id": "3d8c8097",
   "metadata": {},
   "outputs": [],
   "source": [
    "## windowing T20_BFC['AGE2']"
   ]
  },
  {
   "cell_type": "code",
   "execution_count": 132,
   "id": "d0c7f911",
   "metadata": {},
   "outputs": [
    {
     "data": {
      "text/html": [
       "<div>\n",
       "<style scoped>\n",
       "    .dataframe tbody tr th:only-of-type {\n",
       "        vertical-align: middle;\n",
       "    }\n",
       "\n",
       "    .dataframe tbody tr th {\n",
       "        vertical-align: top;\n",
       "    }\n",
       "\n",
       "    .dataframe thead th {\n",
       "        text-align: right;\n",
       "    }\n",
       "</style>\n",
       "<table border=\"1\" class=\"dataframe\">\n",
       "  <thead>\n",
       "    <tr style=\"text-align: right;\">\n",
       "      <th></th>\n",
       "      <th>YEAR</th>\n",
       "      <th>ID</th>\n",
       "      <th>d</th>\n",
       "      <th>SEX</th>\n",
       "      <th>AGE</th>\n",
       "      <th>GAIBJA</th>\n",
       "      <th>AGE2</th>\n",
       "    </tr>\n",
       "  </thead>\n",
       "  <tbody>\n",
       "    <tr>\n",
       "      <th>0</th>\n",
       "      <td>2006</td>\n",
       "      <td>1</td>\n",
       "      <td>219</td>\n",
       "      <td>2</td>\n",
       "      <td>51</td>\n",
       "      <td>2</td>\n",
       "      <td>55</td>\n",
       "    </tr>\n",
       "    <tr>\n",
       "      <th>1</th>\n",
       "      <td>2007</td>\n",
       "      <td>1</td>\n",
       "      <td>219</td>\n",
       "      <td>2</td>\n",
       "      <td>51</td>\n",
       "      <td>2</td>\n",
       "      <td>56</td>\n",
       "    </tr>\n",
       "    <tr>\n",
       "      <th>2</th>\n",
       "      <td>2009</td>\n",
       "      <td>1</td>\n",
       "      <td>221</td>\n",
       "      <td>2</td>\n",
       "      <td>51</td>\n",
       "      <td>2</td>\n",
       "      <td>58</td>\n",
       "    </tr>\n",
       "    <tr>\n",
       "      <th>3</th>\n",
       "      <td>2010</td>\n",
       "      <td>1</td>\n",
       "      <td>219</td>\n",
       "      <td>2</td>\n",
       "      <td>51</td>\n",
       "      <td>2</td>\n",
       "      <td>59</td>\n",
       "    </tr>\n",
       "    <tr>\n",
       "      <th>4</th>\n",
       "      <td>2011</td>\n",
       "      <td>1</td>\n",
       "      <td>221</td>\n",
       "      <td>2</td>\n",
       "      <td>51</td>\n",
       "      <td>2</td>\n",
       "      <td>60</td>\n",
       "    </tr>\n",
       "  </tbody>\n",
       "</table>\n",
       "</div>"
      ],
      "text/plain": [
       "   YEAR  ID    d  SEX  AGE  GAIBJA AGE2\n",
       "0  2006   1  219    2   51       2   55\n",
       "1  2007   1  219    2   51       2   56\n",
       "2  2009   1  221    2   51       2   58\n",
       "3  2010   1  219    2   51       2   59\n",
       "4  2011   1  221    2   51       2   60"
      ]
     },
     "execution_count": 132,
     "metadata": {},
     "output_type": "execute_result"
    }
   ],
   "source": [
    "T20_BFC.head()"
   ]
  },
  {
   "cell_type": "code",
   "execution_count": 16,
   "id": "b2df6cd1",
   "metadata": {},
   "outputs": [
    {
     "data": {
      "text/html": [
       "<div>\n",
       "<style scoped>\n",
       "    .dataframe tbody tr th:only-of-type {\n",
       "        vertical-align: middle;\n",
       "    }\n",
       "\n",
       "    .dataframe tbody tr th {\n",
       "        vertical-align: top;\n",
       "    }\n",
       "\n",
       "    .dataframe thead th {\n",
       "        text-align: right;\n",
       "    }\n",
       "</style>\n",
       "<table border=\"1\" class=\"dataframe\">\n",
       "  <thead>\n",
       "    <tr style=\"text-align: right;\">\n",
       "      <th></th>\n",
       "      <th>YEAR</th>\n",
       "      <th>ID</th>\n",
       "      <th>d</th>\n",
       "      <th>SEX</th>\n",
       "      <th>AGE</th>\n",
       "      <th>GAIBJA</th>\n",
       "      <th>AGE2</th>\n",
       "    </tr>\n",
       "  </thead>\n",
       "  <tbody>\n",
       "    <tr>\n",
       "      <th>0</th>\n",
       "      <td>2006</td>\n",
       "      <td>1</td>\n",
       "      <td>219</td>\n",
       "      <td>2</td>\n",
       "      <td>51</td>\n",
       "      <td>2</td>\n",
       "      <td>55</td>\n",
       "    </tr>\n",
       "    <tr>\n",
       "      <th>1</th>\n",
       "      <td>2007</td>\n",
       "      <td>1</td>\n",
       "      <td>219</td>\n",
       "      <td>2</td>\n",
       "      <td>51</td>\n",
       "      <td>2</td>\n",
       "      <td>56</td>\n",
       "    </tr>\n",
       "    <tr>\n",
       "      <th>2</th>\n",
       "      <td>2009</td>\n",
       "      <td>1</td>\n",
       "      <td>221</td>\n",
       "      <td>2</td>\n",
       "      <td>51</td>\n",
       "      <td>2</td>\n",
       "      <td>58</td>\n",
       "    </tr>\n",
       "    <tr>\n",
       "      <th>3</th>\n",
       "      <td>2010</td>\n",
       "      <td>1</td>\n",
       "      <td>219</td>\n",
       "      <td>2</td>\n",
       "      <td>51</td>\n",
       "      <td>2</td>\n",
       "      <td>59</td>\n",
       "    </tr>\n",
       "    <tr>\n",
       "      <th>4</th>\n",
       "      <td>2011</td>\n",
       "      <td>1</td>\n",
       "      <td>221</td>\n",
       "      <td>2</td>\n",
       "      <td>51</td>\n",
       "      <td>2</td>\n",
       "      <td>60</td>\n",
       "    </tr>\n",
       "  </tbody>\n",
       "</table>\n",
       "</div>"
      ],
      "text/plain": [
       "   YEAR  ID    d  SEX  AGE  GAIBJA  AGE2\n",
       "0  2006   1  219    2   51       2    55\n",
       "1  2007   1  219    2   51       2    56\n",
       "2  2009   1  221    2   51       2    58\n",
       "3  2010   1  219    2   51       2    59\n",
       "4  2011   1  221    2   51       2    60"
      ]
     },
     "execution_count": 16,
     "metadata": {},
     "output_type": "execute_result"
    }
   ],
   "source": [
    "T20_BFC_over40.head()"
   ]
  },
  {
   "cell_type": "code",
   "execution_count": null,
   "id": "8ad1e02c",
   "metadata": {},
   "outputs": [],
   "source": [
    "# 1. for all T20 : 'T20_BFC'\n",
    "# 2. only for over 40 : T20_BFC_over40"
   ]
  },
  {
   "cell_type": "code",
   "execution_count": 15,
   "id": "d8fa7a37",
   "metadata": {},
   "outputs": [],
   "source": [
    "import pandas as pd"
   ]
  },
  {
   "cell_type": "code",
   "execution_count": 16,
   "id": "92226140",
   "metadata": {},
   "outputs": [],
   "source": [
    "def pre(data) :\n",
    "# Assuming the DataFrame is already created and named  : data \n",
    "\n",
    "# Set age and code to string\n",
    "    data['AGE2'] = data['AGE2'].astype(str)\n",
    "    data['d'] = data['d'].astype(str)\n",
    "\n",
    "# Group by 'ID' and aggregate 'd' and 'AGE2' using lists\n",
    "    grouped_diagnoses2 = data.groupby(['ID','YEAR'])[['d', 'AGE2']].agg(list).reset_index()\n",
    "\n",
    "# Add 'SEP' to 'd' lists\n",
    "    grouped_diagnoses2['d2'] = grouped_diagnoses2['d'].apply(lambda x: x + ['SEP'])\n",
    "\n",
    "    # Add 'SEP' to 'd' lists\n",
    "    grouped_diagnoses2['d2'] = grouped_diagnoses2['d'].apply(lambda x: x + ['SEP'])\n",
    "    grouped_diagnoses2['AGE3']=grouped_diagnoses2['AGE2'].apply(lambda x: x+[x[0]])\n",
    "    grouped =grouped_diagnoses2[['ID','AGE3','d2']].groupby('ID').apply(lambda x: pd.Series({'d2': x['d2'].sum(), 'AGE': x['AGE3'].sum()})).reset_index()\n",
    "\n",
    "    # Remove the last 'SEP' value from each row in the 'd2' column\n",
    "    df = grouped\n",
    "    df['d2'] = df['d2'].apply(lambda row: row[:-1] if row[-1] == 'SEP' else row)\n",
    "    df['AGE2'] = df['AGE'].apply(lambda row: row[:-1])  \n",
    "    df_f=pd.merge(df, BFC, how='left', on='ID')\n",
    "    return  df_f"
   ]
  },
  {
   "cell_type": "code",
   "execution_count": 19,
   "id": "bc1726b7",
   "metadata": {},
   "outputs": [
    {
     "name": "stderr",
     "output_type": "stream",
     "text": [
      "/tmp/ipykernel_18788/2898568637.py:5: SettingWithCopyWarning: \n",
      "A value is trying to be set on a copy of a slice from a DataFrame.\n",
      "Try using .loc[row_indexer,col_indexer] = value instead\n",
      "\n",
      "See the caveats in the documentation: https://pandas.pydata.org/pandas-docs/stable/user_guide/indexing.html#returning-a-view-versus-a-copy\n",
      "  data['AGE2'] = data['AGE2'].astype(str)\n",
      "/tmp/ipykernel_18788/2898568637.py:6: SettingWithCopyWarning: \n",
      "A value is trying to be set on a copy of a slice from a DataFrame.\n",
      "Try using .loc[row_indexer,col_indexer] = value instead\n",
      "\n",
      "See the caveats in the documentation: https://pandas.pydata.org/pandas-docs/stable/user_guide/indexing.html#returning-a-view-versus-a-copy\n",
      "  data['d'] = data['d'].astype(str)\n"
     ]
    }
   ],
   "source": [
    "#T20_BFC_df_f= pre(T20_BFC)\n",
    "\n",
    "T20_BFC_over40_df_f= pre(T20_BFC_over40)"
   ]
  },
  {
   "cell_type": "code",
   "execution_count": 133,
   "id": "86a1e84f",
   "metadata": {},
   "outputs": [],
   "source": [
    "# T20_BFC\n",
    "T20_BFC_df_f= pre(T20_BFC)"
   ]
  },
  {
   "cell_type": "code",
   "execution_count": null,
   "id": "733b2f61",
   "metadata": {},
   "outputs": [],
   "source": [
    "# import pandas as pd\n",
    "\n",
    "# # Assuming the DataFrame is already created and named 'T20_BFC_over40'\n",
    "\n",
    "# # Set age and code to string\n",
    "# T20_BFC_over40['AGE2'] = T20_BFC_over40['AGE2'].astype(str)\n",
    "# T20_BFC_over40['d'] = T20_BFC_over40['d'].astype(str)\n",
    "\n",
    "# # Group by 'ID' and aggregate 'd' and 'AGE2' using lists\n",
    "# grouped_diagnoses2 = T20_BFC_over40.groupby(['ID','YEAR'])[['d', 'AGE2']].agg(list).reset_index()\n",
    "\n",
    "# # Add 'SEP' to 'd' lists\n",
    "# grouped_diagnoses2['d2'] = grouped_diagnoses2['d'].apply(lambda x: x + ['SEP'])\n",
    "\n",
    "# # Add 'SEP' to 'd' lists\n",
    "# grouped_diagnoses2['d2'] = grouped_diagnoses2['d'].apply(lambda x: x + ['SEP'])\n",
    "# grouped_diagnoses2['AGE3']=grouped_diagnoses2['AGE2'].apply(lambda x: x+[x[0]])\n",
    "# grouped =grouped_diagnoses2[['ID','AGE3','d2']].groupby('ID').apply(lambda x: pd.Series({'d2': x['d2'].sum(), 'AGE': x['AGE3'].sum()})).reset_index()\n",
    "\n",
    "# # Remove the last 'SEP' value from each row in the 'd2' column\n",
    "# df = grouped\n",
    "# df['d2'] = df['d2'].apply(lambda row: row[:-1] if row[-1] == 'SEP' else row)\n",
    "# df['AGE2'] = df['AGE'].apply(lambda row: row[:-1])\n",
    "\n",
    "# df_f=pd.merge(df, BFC, how='left', on='ID')"
   ]
  },
  {
   "cell_type": "code",
   "execution_count": 30,
   "id": "dddcf320",
   "metadata": {},
   "outputs": [
    {
     "data": {
      "text/html": [
       "<div>\n",
       "<style scoped>\n",
       "    .dataframe tbody tr th:only-of-type {\n",
       "        vertical-align: middle;\n",
       "    }\n",
       "\n",
       "    .dataframe tbody tr th {\n",
       "        vertical-align: top;\n",
       "    }\n",
       "\n",
       "    .dataframe thead th {\n",
       "        text-align: right;\n",
       "    }\n",
       "</style>\n",
       "<table border=\"1\" class=\"dataframe\">\n",
       "  <thead>\n",
       "    <tr style=\"text-align: right;\">\n",
       "      <th></th>\n",
       "      <th>ID</th>\n",
       "      <th>d2</th>\n",
       "      <th>AGE_x</th>\n",
       "      <th>AGE2</th>\n",
       "      <th>SEX</th>\n",
       "      <th>AGE_y</th>\n",
       "      <th>GAIBJA</th>\n",
       "    </tr>\n",
       "  </thead>\n",
       "  <tbody>\n",
       "    <tr>\n",
       "      <th>0</th>\n",
       "      <td>1</td>\n",
       "      <td>[219, SEP, 219, SEP, 221, SEP, 219, SEP, 221, ...</td>\n",
       "      <td>[55, 55, 56, 56, 58, 58, 59, 59, 60, 60, 61, 6...</td>\n",
       "      <td>[55, 55, 56, 56, 58, 58, 59, 59, 60, 60, 61, 6...</td>\n",
       "      <td>2</td>\n",
       "      <td>51</td>\n",
       "      <td>2</td>\n",
       "    </tr>\n",
       "    <tr>\n",
       "      <th>1</th>\n",
       "      <td>3</td>\n",
       "      <td>[219, SEP, 147, 219, SEP, 147, 219, SEP, 147, ...</td>\n",
       "      <td>[75, 75, 76, 76, 76, 78, 78, 78, 79, 79, 79, 8...</td>\n",
       "      <td>[75, 75, 76, 76, 76, 78, 78, 78, 79, 79, 79, 8...</td>\n",
       "      <td>2</td>\n",
       "      <td>71</td>\n",
       "      <td>7</td>\n",
       "    </tr>\n",
       "    <tr>\n",
       "      <th>2</th>\n",
       "      <td>4</td>\n",
       "      <td>[151, SEP, 151, SEP, 151, SEP, 151, 220, SEP, ...</td>\n",
       "      <td>[51, 51, 52, 52, 53, 53, 54, 54, 54, 55, 55, 5...</td>\n",
       "      <td>[51, 51, 52, 52, 53, 53, 54, 54, 54, 55, 55, 5...</td>\n",
       "      <td>1</td>\n",
       "      <td>51</td>\n",
       "      <td>1</td>\n",
       "    </tr>\n",
       "    <tr>\n",
       "      <th>3</th>\n",
       "      <td>5</td>\n",
       "      <td>[220, 238, 239, SEP, 219, SEP, 220]</td>\n",
       "      <td>[63, 63, 63, 63, 65, 65, 66, 66]</td>\n",
       "      <td>[63, 63, 63, 63, 65, 65, 66]</td>\n",
       "      <td>2</td>\n",
       "      <td>49</td>\n",
       "      <td>5</td>\n",
       "    </tr>\n",
       "    <tr>\n",
       "      <th>4</th>\n",
       "      <td>8</td>\n",
       "      <td>[220, SEP, 169, SEP, 169, SEP, 134, SEP, 134]</td>\n",
       "      <td>[76, 76, 77, 77, 78, 78, 80, 80, 81, 81]</td>\n",
       "      <td>[76, 76, 77, 77, 78, 78, 80, 80, 81]</td>\n",
       "      <td>2</td>\n",
       "      <td>70</td>\n",
       "      <td>1</td>\n",
       "    </tr>\n",
       "  </tbody>\n",
       "</table>\n",
       "</div>"
      ],
      "text/plain": [
       "   ID                                                 d2  \\\n",
       "0   1  [219, SEP, 219, SEP, 221, SEP, 219, SEP, 221, ...   \n",
       "1   3  [219, SEP, 147, 219, SEP, 147, 219, SEP, 147, ...   \n",
       "2   4  [151, SEP, 151, SEP, 151, SEP, 151, 220, SEP, ...   \n",
       "3   5                [220, 238, 239, SEP, 219, SEP, 220]   \n",
       "4   8      [220, SEP, 169, SEP, 169, SEP, 134, SEP, 134]   \n",
       "\n",
       "                                               AGE_x  \\\n",
       "0  [55, 55, 56, 56, 58, 58, 59, 59, 60, 60, 61, 6...   \n",
       "1  [75, 75, 76, 76, 76, 78, 78, 78, 79, 79, 79, 8...   \n",
       "2  [51, 51, 52, 52, 53, 53, 54, 54, 54, 55, 55, 5...   \n",
       "3                   [63, 63, 63, 63, 65, 65, 66, 66]   \n",
       "4           [76, 76, 77, 77, 78, 78, 80, 80, 81, 81]   \n",
       "\n",
       "                                                AGE2  SEX  AGE_y  GAIBJA  \n",
       "0  [55, 55, 56, 56, 58, 58, 59, 59, 60, 60, 61, 6...    2     51       2  \n",
       "1  [75, 75, 76, 76, 76, 78, 78, 78, 79, 79, 79, 8...    2     71       7  \n",
       "2  [51, 51, 52, 52, 53, 53, 54, 54, 54, 55, 55, 5...    1     51       1  \n",
       "3                       [63, 63, 63, 63, 65, 65, 66]    2     49       5  \n",
       "4               [76, 76, 77, 77, 78, 78, 80, 80, 81]    2     70       1  "
      ]
     },
     "execution_count": 30,
     "metadata": {},
     "output_type": "execute_result"
    }
   ],
   "source": [
    "df_f.head()"
   ]
  },
  {
   "cell_type": "code",
   "execution_count": null,
   "id": "992e80e0",
   "metadata": {},
   "outputs": [],
   "source": [
    "#  'T20_BFC'"
   ]
  },
  {
   "cell_type": "code",
   "execution_count": null,
   "id": "69adf7d9",
   "metadata": {},
   "outputs": [],
   "source": [
    "# import pandas as pd\n",
    "\n",
    "# # Assuming the DataFrame is already created and named 'T20_BFC'\n",
    "\n",
    "# # Set age and code to string\n",
    "# T20_BFC['AGE2'] = T20_BFC['AGE2'].astype(str)\n",
    "# T20_BFC['d'] = T20_BFC['d'].astype(str)\n",
    "\n",
    "# # Group by 'ID' and aggregate 'd' and 'AGE2' using lists\n",
    "# grouped_diagnoses2 = T20_BFC.groupby(['ID','YEAR'])[['d', 'AGE2']].agg(list).reset_index()\n",
    "\n",
    "# # Add 'SEP' to 'd' lists\n",
    "# grouped_diagnoses2['d2'] = grouped_diagnoses2['d'].apply(lambda x: x + ['SEP'])\n",
    "\n",
    "# # # Add 'SEP' to 'd' lists\n",
    "# # grouped_diagnoses2['d2'] = grouped_diagnoses2['d'].apply(lambda x: x + ['SEP'])\n",
    "# # grouped_diagnoses2['AGE3']=grouped_diagnoses2['AGE2'].apply(lambda x: x+[x[0]])\n",
    "# # grouped =grouped_diagnoses2[['ID','AGE3','d2']].groupby('ID').apply(lambda x: pd.Series({'d2': x['d2'].sum(), 'AGE': x['AGE3'].sum()})).reset_index()\n",
    "\n",
    "\n",
    "# # # Remove the last 'SEP' value from each row in the 'd2' column\n",
    "# # df = grouped\n",
    "# # df['d2'] = df['d2'].apply(lambda row: row[:-1] if row[-1] == 'SEP' else row)\n",
    "# # df['AGE2'] = df['AGE'].apply(lambda row: row[:-1])\n",
    "\n",
    "# df_f=pd.merge(df, BFC, how='left', on='ID')\n",
    "\n",
    "\n"
   ]
  },
  {
   "cell_type": "code",
   "execution_count": null,
   "id": "71ea1599",
   "metadata": {},
   "outputs": [],
   "source": [
    "# Preprocessing for Deep Learning"
   ]
  },
  {
   "cell_type": "code",
   "execution_count": null,
   "id": "dfce847c",
   "metadata": {},
   "outputs": [],
   "source": [
    "# 1. remove the patients having stomach cancer during the time 2 \n",
    "# 2. X : time 1 and time 2 ( model 1 and 2)\n",
    "# 3. Y : whehter it has stomach cancer during time 3 ( model3)"
   ]
  },
  {
   "cell_type": "code",
   "execution_count": 33,
   "id": "26077029",
   "metadata": {},
   "outputs": [
    {
     "data": {
      "text/html": [
       "<div>\n",
       "<style scoped>\n",
       "    .dataframe tbody tr th:only-of-type {\n",
       "        vertical-align: middle;\n",
       "    }\n",
       "\n",
       "    .dataframe tbody tr th {\n",
       "        vertical-align: top;\n",
       "    }\n",
       "\n",
       "    .dataframe thead th {\n",
       "        text-align: right;\n",
       "    }\n",
       "</style>\n",
       "<table border=\"1\" class=\"dataframe\">\n",
       "  <thead>\n",
       "    <tr style=\"text-align: right;\">\n",
       "      <th></th>\n",
       "      <th>ID</th>\n",
       "      <th>d2</th>\n",
       "      <th>AGE_x</th>\n",
       "      <th>AGE2</th>\n",
       "      <th>SEX</th>\n",
       "      <th>AGE_y</th>\n",
       "      <th>GAIBJA</th>\n",
       "    </tr>\n",
       "  </thead>\n",
       "  <tbody>\n",
       "    <tr>\n",
       "      <th>0</th>\n",
       "      <td>1</td>\n",
       "      <td>[219, SEP, 219, SEP, 221, SEP, 219, SEP, 221, ...</td>\n",
       "      <td>[55, 55, 56, 56, 58, 58, 59, 59, 60, 60, 61, 6...</td>\n",
       "      <td>[55, 55, 56, 56, 58, 58, 59, 59, 60, 60, 61, 6...</td>\n",
       "      <td>2</td>\n",
       "      <td>51</td>\n",
       "      <td>2</td>\n",
       "    </tr>\n",
       "    <tr>\n",
       "      <th>1</th>\n",
       "      <td>3</td>\n",
       "      <td>[219, SEP, 147, 219, SEP, 147, 219, SEP, 147, ...</td>\n",
       "      <td>[75, 75, 76, 76, 76, 78, 78, 78, 79, 79, 79, 8...</td>\n",
       "      <td>[75, 75, 76, 76, 76, 78, 78, 78, 79, 79, 79, 8...</td>\n",
       "      <td>2</td>\n",
       "      <td>71</td>\n",
       "      <td>7</td>\n",
       "    </tr>\n",
       "    <tr>\n",
       "      <th>2</th>\n",
       "      <td>4</td>\n",
       "      <td>[151, SEP, 151, SEP, 151, SEP, 151, 220, SEP, ...</td>\n",
       "      <td>[51, 51, 52, 52, 53, 53, 54, 54, 54, 55, 55, 5...</td>\n",
       "      <td>[51, 51, 52, 52, 53, 53, 54, 54, 54, 55, 55, 5...</td>\n",
       "      <td>1</td>\n",
       "      <td>51</td>\n",
       "      <td>1</td>\n",
       "    </tr>\n",
       "    <tr>\n",
       "      <th>3</th>\n",
       "      <td>5</td>\n",
       "      <td>[220, 238, 239, SEP, 219, SEP, 220]</td>\n",
       "      <td>[63, 63, 63, 63, 65, 65, 66, 66]</td>\n",
       "      <td>[63, 63, 63, 63, 65, 65, 66]</td>\n",
       "      <td>2</td>\n",
       "      <td>49</td>\n",
       "      <td>5</td>\n",
       "    </tr>\n",
       "    <tr>\n",
       "      <th>4</th>\n",
       "      <td>8</td>\n",
       "      <td>[220, SEP, 169, SEP, 169, SEP, 134, SEP, 134]</td>\n",
       "      <td>[76, 76, 77, 77, 78, 78, 80, 80, 81, 81]</td>\n",
       "      <td>[76, 76, 77, 77, 78, 78, 80, 80, 81]</td>\n",
       "      <td>2</td>\n",
       "      <td>70</td>\n",
       "      <td>1</td>\n",
       "    </tr>\n",
       "  </tbody>\n",
       "</table>\n",
       "</div>"
      ],
      "text/plain": [
       "   ID                                                 d2  \\\n",
       "0   1  [219, SEP, 219, SEP, 221, SEP, 219, SEP, 221, ...   \n",
       "1   3  [219, SEP, 147, 219, SEP, 147, 219, SEP, 147, ...   \n",
       "2   4  [151, SEP, 151, SEP, 151, SEP, 151, 220, SEP, ...   \n",
       "3   5                [220, 238, 239, SEP, 219, SEP, 220]   \n",
       "4   8      [220, SEP, 169, SEP, 169, SEP, 134, SEP, 134]   \n",
       "\n",
       "                                               AGE_x  \\\n",
       "0  [55, 55, 56, 56, 58, 58, 59, 59, 60, 60, 61, 6...   \n",
       "1  [75, 75, 76, 76, 76, 78, 78, 78, 79, 79, 79, 8...   \n",
       "2  [51, 51, 52, 52, 53, 53, 54, 54, 54, 55, 55, 5...   \n",
       "3                   [63, 63, 63, 63, 65, 65, 66, 66]   \n",
       "4           [76, 76, 77, 77, 78, 78, 80, 80, 81, 81]   \n",
       "\n",
       "                                                AGE2  SEX  AGE_y  GAIBJA  \n",
       "0  [55, 55, 56, 56, 58, 58, 59, 59, 60, 60, 61, 6...    2     51       2  \n",
       "1  [75, 75, 76, 76, 76, 78, 78, 78, 79, 79, 79, 8...    2     71       7  \n",
       "2  [51, 51, 52, 52, 53, 53, 54, 54, 54, 55, 55, 5...    1     51       1  \n",
       "3                       [63, 63, 63, 63, 65, 65, 66]    2     49       5  \n",
       "4               [76, 76, 77, 77, 78, 78, 80, 80, 81]    2     70       1  "
      ]
     },
     "execution_count": 33,
     "metadata": {},
     "output_type": "execute_result"
    }
   ],
   "source": [
    "T20_BFC_over40_df_f.head()"
   ]
  },
  {
   "cell_type": "code",
   "execution_count": 233,
   "id": "b9b2d374",
   "metadata": {},
   "outputs": [],
   "source": [
    "#Export\n",
    "import pickle\n",
    "\n",
    "with open('T20_BFC_BEHRT_grouped_df.pkl', 'wb') as f:\n",
    "    # Pickle the 'data' dictionary using the highest protocol available.\n",
    "    pickle.dump(df, f)\n",
    "\n",
    "# with open('T20_out_group_data_sickF_no_scancer_op1.pkl', 'wb') as f:\n",
    "#     # Pickle the 'data' dictionary using the highest protocol available.\n",
    "#     pickle.dump(group_data_sickF_no_scancer, f)"
   ]
  },
  {
   "cell_type": "code",
   "execution_count": 20,
   "id": "a83be307",
   "metadata": {},
   "outputs": [],
   "source": [
    "#T20_BFC_over40_df_f\n",
    "\n",
    "#Export\n",
    "import pickle\n",
    "\n",
    "with open('./T20_BFC_over40_df_f.pkl', 'wb') as f:\n",
    "    # Pickle the 'data' dictionary using the highest protocol available.\n",
    "    pickle.dump(T20_BFC_over40_df_f, f)\n"
   ]
  },
  {
   "cell_type": "code",
   "execution_count": null,
   "id": "4a87b688",
   "metadata": {},
   "outputs": [],
   "source": [
    "print(len(T20_BFC_df_f))\n",
    "T20_BFC_df_f.head()"
   ]
  },
  {
   "cell_type": "code",
   "execution_count": null,
   "id": "98a763af",
   "metadata": {},
   "outputs": [],
   "source": [
    "#T20_BFC_df_f\n",
    "\n",
    "#Export\n",
    "import pickle\n",
    "\n",
    "with open('./T20_BFC_df_f.pkl', 'wb') as f:\n",
    "    # Pickle the 'data' dictionary using the highest protocol available.\n",
    "    pickle.dump(T20_BFC_df_f, f)"
   ]
  },
  {
   "cell_type": "code",
   "execution_count": 24,
   "id": "356ecd45",
   "metadata": {},
   "outputs": [],
   "source": [
    "#I.Import : /home/skbae/cancer_conquerance/T20_BFC_BEHRT_grouped_df.pkl\n",
    "# /home/skbae/Desktop/146/cancer_conquerance/BEHRT/BEHRT/preprocess/T20_BFC_BEHRT_grouped_df.pkl\n",
    "import pickle\n",
    "\n",
    "with open('/home/skbae/Desktop/146/cancer_conquerance/BEHRT/BEHRT/preprocess/T20_BFC_BEHRT_grouped_df.pkl', 'rb') as f:\n",
    "    data = pickle.load(f)\n",
    "    group_data_sickFinal_F2 = pd.DataFrame(data)"
   ]
  },
  {
   "cell_type": "code",
   "execution_count": null,
   "id": "05b1daed",
   "metadata": {},
   "outputs": [],
   "source": [
    "#Export\n",
    "import pickle\n",
    "\n",
    "with open('T20_BFC_over40_df_f.pkl', 'rb') as f:\n",
    "    data = pickle.load(f)\n",
    "    # Pickle the 'data' dictionary using the highest protocol available.\n",
    "    T20_BFC_over40=pickle.dump(T20_BFC_over40_df_f, f)\n"
   ]
  },
  {
   "cell_type": "code",
   "execution_count": null,
   "id": "f704089b",
   "metadata": {},
   "outputs": [],
   "source": [
    "##3 data over 40"
   ]
  },
  {
   "cell_type": "code",
   "execution_count": 27,
   "id": "e7ee562b",
   "metadata": {},
   "outputs": [],
   "source": [
    "# #import\n",
    "\n",
    "# #I.Import : /home/skbae/Desktop/146/cancer_conquerance/BEHRT/BEHRT/preprocess/T20_BFC_over40_df_f.pkl\n",
    "import pickle\n",
    "\n",
    "with open('/home/skbae/Desktop/146/cancer_conquerance/BEHRT/BEHRT/preprocess/T20_BFC_over40_df_f.pkl', 'rb') as f:\n",
    "    data2 = pickle.load(f)\n",
    "    T20_BFC_over40_df_f = pd.DataFrame(data2)"
   ]
  },
  {
   "cell_type": "code",
   "execution_count": 28,
   "id": "c807ded0",
   "metadata": {},
   "outputs": [
    {
     "name": "stdout",
     "output_type": "stream",
     "text": [
      "600030\n",
      "331811\n"
     ]
    },
    {
     "data": {
      "text/plain": [
       "3821172"
      ]
     },
     "execution_count": 28,
     "metadata": {},
     "output_type": "execute_result"
    }
   ],
   "source": [
    "print(len (group_data_sickFinal_F2)) # by id all ag3\n",
    "print(len (T20_BFC_over40_df_f )) # by id over 40\n",
    "len(T20_BFC_over40)"
   ]
  },
  {
   "cell_type": "code",
   "execution_count": 26,
   "id": "e25e66e7",
   "metadata": {},
   "outputs": [
    {
     "data": {
      "text/html": [
       "<div>\n",
       "<style scoped>\n",
       "    .dataframe tbody tr th:only-of-type {\n",
       "        vertical-align: middle;\n",
       "    }\n",
       "\n",
       "    .dataframe tbody tr th {\n",
       "        vertical-align: top;\n",
       "    }\n",
       "\n",
       "    .dataframe thead th {\n",
       "        text-align: right;\n",
       "    }\n",
       "</style>\n",
       "<table border=\"1\" class=\"dataframe\">\n",
       "  <thead>\n",
       "    <tr style=\"text-align: right;\">\n",
       "      <th></th>\n",
       "      <th>ID</th>\n",
       "      <th>d2</th>\n",
       "      <th>AGE</th>\n",
       "      <th>AGE2</th>\n",
       "    </tr>\n",
       "  </thead>\n",
       "  <tbody>\n",
       "    <tr>\n",
       "      <th>0</th>\n",
       "      <td>1</td>\n",
       "      <td>[219, SEP, 219, SEP, 221, SEP, 219, SEP, 221, ...</td>\n",
       "      <td>[55, 55, 56, 56, 58, 58, 59, 59, 60, 60, 61, 6...</td>\n",
       "      <td>[55, 55, 56, 56, 58, 58, 59, 59, 60, 60, 61, 6...</td>\n",
       "    </tr>\n",
       "    <tr>\n",
       "      <th>1</th>\n",
       "      <td>3</td>\n",
       "      <td>[219, SEP, 147, 219, SEP, 147, 219, SEP, 147, ...</td>\n",
       "      <td>[75, 75, 76, 76, 76, 78, 78, 78, 79, 79, 79, 8...</td>\n",
       "      <td>[75, 75, 76, 76, 76, 78, 78, 78, 79, 79, 79, 8...</td>\n",
       "    </tr>\n",
       "    <tr>\n",
       "      <th>2</th>\n",
       "      <td>4</td>\n",
       "      <td>[151, SEP, 151, SEP, 151, SEP, 151, 220, SEP, ...</td>\n",
       "      <td>[51, 51, 52, 52, 53, 53, 54, 54, 54, 55, 55, 5...</td>\n",
       "      <td>[51, 51, 52, 52, 53, 53, 54, 54, 54, 55, 55, 5...</td>\n",
       "    </tr>\n",
       "    <tr>\n",
       "      <th>3</th>\n",
       "      <td>5</td>\n",
       "      <td>[220, 238, 239, SEP, 219, SEP, 220]</td>\n",
       "      <td>[63, 63, 63, 63, 65, 65, 66, 66]</td>\n",
       "      <td>[63, 63, 63, 63, 65, 65, 66]</td>\n",
       "    </tr>\n",
       "    <tr>\n",
       "      <th>4</th>\n",
       "      <td>6</td>\n",
       "      <td>[152]</td>\n",
       "      <td>[31, 31]</td>\n",
       "      <td>[31]</td>\n",
       "    </tr>\n",
       "  </tbody>\n",
       "</table>\n",
       "</div>"
      ],
      "text/plain": [
       "   ID                                                 d2  \\\n",
       "0   1  [219, SEP, 219, SEP, 221, SEP, 219, SEP, 221, ...   \n",
       "1   3  [219, SEP, 147, 219, SEP, 147, 219, SEP, 147, ...   \n",
       "2   4  [151, SEP, 151, SEP, 151, SEP, 151, 220, SEP, ...   \n",
       "3   5                [220, 238, 239, SEP, 219, SEP, 220]   \n",
       "4   6                                              [152]   \n",
       "\n",
       "                                                 AGE  \\\n",
       "0  [55, 55, 56, 56, 58, 58, 59, 59, 60, 60, 61, 6...   \n",
       "1  [75, 75, 76, 76, 76, 78, 78, 78, 79, 79, 79, 8...   \n",
       "2  [51, 51, 52, 52, 53, 53, 54, 54, 54, 55, 55, 5...   \n",
       "3                   [63, 63, 63, 63, 65, 65, 66, 66]   \n",
       "4                                           [31, 31]   \n",
       "\n",
       "                                                AGE2  \n",
       "0  [55, 55, 56, 56, 58, 58, 59, 59, 60, 60, 61, 6...  \n",
       "1  [75, 75, 76, 76, 76, 78, 78, 78, 79, 79, 79, 8...  \n",
       "2  [51, 51, 52, 52, 53, 53, 54, 54, 54, 55, 55, 5...  \n",
       "3                       [63, 63, 63, 63, 65, 65, 66]  \n",
       "4                                               [31]  "
      ]
     },
     "execution_count": 26,
     "metadata": {},
     "output_type": "execute_result"
    }
   ],
   "source": [
    "group_data_sickFinal_F2.head()"
   ]
  },
  {
   "cell_type": "code",
   "execution_count": null,
   "id": "dba7773c",
   "metadata": {},
   "outputs": [],
   "source": [
    "# over 40 all by pTIENT ID : T20_BFC_over40_df_f "
   ]
  },
  {
   "cell_type": "code",
   "execution_count": 29,
   "id": "929a4257",
   "metadata": {},
   "outputs": [],
   "source": [
    "# 1. direct use\n",
    "group_data_sickFinal_F2=T20_BFC_over40_df_f"
   ]
  },
  {
   "cell_type": "code",
   "execution_count": 30,
   "id": "a502f742",
   "metadata": {},
   "outputs": [],
   "source": [
    "# 2. after importing\n",
    "sample_f= group_data_sickFinal_F2"
   ]
  },
  {
   "cell_type": "code",
   "execution_count": 36,
   "id": "7dc1e1f7",
   "metadata": {},
   "outputs": [
    {
     "name": "stdout",
     "output_type": "stream",
     "text": [
      "about 50% of whole data used as NDP set. We select index for last( before .) sample_f number is 6 or 7 or 8 or 9.\n",
      "Fold2 1 -> MLM set  Fold2 0 -> NDP set\n",
      "0    165986\n",
      "1    165825\n",
      "Name: fold2, dtype: int64\n"
     ]
    }
   ],
   "source": [
    "# Traiin and Test\n",
    "# sample_f['fold']=0\n",
    "sample_f['fold2']=0\n",
    "# print('about 20% of whole data used as Test set. We select index for last( before .) sample_f number is 8 or 9.')\n",
    "# test_index = (sample_f['ID'].astype(str).map(lambda x : x[-1]) == '8') |(sample_f['ID'].astype(str).map(lambda x : x[-1]) == '9')\n",
    "print('about 50% of whole data used as NDP set. We select index for last( before .) sample_f number is 6 or 7 or 8 or 9.')\n",
    "test_index2 = (sample_f['ID'].astype(str).map(lambda x : x[-1]) == '1') |(sample_f['ID'].astype(str).map(lambda x : x[-1]) == '3') |(sample_f['ID'].astype(str).map(lambda x : x[-1]) == '5') |(sample_f['ID'].astype(str).map(lambda x : x[-1]) == '7') |(sample_f['ID'].astype(str).map(lambda x : x[-1]) == '9')\n",
    "\n",
    "# sample_f.loc[test_index, 'fold'] = 1\n",
    "sample_f.loc[test_index2, 'fold2'] = 1\n",
    "# print('Fold 0 -> train set  Fold 1 -> test set')\n",
    "# print(sample_f['fold'].value_counts())\n",
    "\n",
    "print('Fold2 1 -> MLM set  Fold2 0 -> NDP set')\n",
    "print(sample_f['fold2'].value_counts())"
   ]
  },
  {
   "cell_type": "code",
   "execution_count": 37,
   "id": "aa6d12a6",
   "metadata": {},
   "outputs": [],
   "source": [
    "g_data=sample_f"
   ]
  },
  {
   "cell_type": "code",
   "execution_count": 38,
   "id": "5dce035c",
   "metadata": {},
   "outputs": [],
   "source": [
    "# MLM (option1)\n",
    "group_data_sickFinal_mlm1=pd.DataFrame(g_data[g_data['fold2']==0]).reset_index()"
   ]
  },
  {
   "cell_type": "code",
   "execution_count": 39,
   "id": "8a3c445f",
   "metadata": {},
   "outputs": [],
   "source": [
    "# MLM (option2)\n",
    "group_data_sickFinal_mlm2=pd.DataFrame(g_data[g_data['fold2']==1]).reset_index()"
   ]
  },
  {
   "cell_type": "code",
   "execution_count": 40,
   "id": "cf443573",
   "metadata": {},
   "outputs": [],
   "source": [
    "#Export : option1\n",
    "import pickle\n",
    "\n",
    "with open('./T20_BFC_BEHRT_group_data_sickFinal_mlm_op1_over40.pkl', 'wb') as f:\n",
    "    # Pickle the 'data' dictionary using the highest protocol available.\n",
    "    pickle.dump(group_data_sickFinal_mlm1, f)\n",
    "\n",
    "# import pandas as pd\n",
    "# import pickle \n",
    "# # refer to the data preprocessing\n",
    "\n",
    "# with open('T20_BFC_BEHRT_group_data_sickFinal_mlm.pkl', 'rb') as f:\n",
    "#     data = pickle.load(f)\n",
    "# group_data_sickFinal_mlm = pd.DataFrame(data)"
   ]
  },
  {
   "cell_type": "code",
   "execution_count": 41,
   "id": "78db6056",
   "metadata": {},
   "outputs": [],
   "source": [
    "#Export : option2\n",
    "import pickle\n",
    "\n",
    "with open('./T20_BFC_BEHRT_group_data_sickFinal_mlm_op2_over40.pkl', 'wb') as f:\n",
    "    # Pickle the 'data' dictionary using the highest protocol available.\n",
    "    pickle.dump(group_data_sickFinal_mlm2, f)"
   ]
  },
  {
   "cell_type": "code",
   "execution_count": 31,
   "id": "d4baa3e0",
   "metadata": {},
   "outputs": [],
   "source": [
    "# Export for BERtopic 100%over 40\n",
    "# group_data_sickFinal_F2=T20_BFC_over40_df_f\n",
    "# \n",
    "import pickle\n",
    "\n",
    "with open('./T20_BFC_BEHRT_group_data_BERTopic_over40_all.pkl', 'wb') as f:\n",
    "    # Pickle the 'data' dictionary using the highest protocol available.\n",
    "    pickle.dump(T20_BFC_over40_df_f, f)"
   ]
  },
  {
   "cell_type": "code",
   "execution_count": 42,
   "id": "ecc36f05",
   "metadata": {},
   "outputs": [],
   "source": [
    "# NDP ( option1)\n",
    "group_data_sickFinal_NSP1=pd.DataFrame(g_data[g_data['fold2']==1]).reset_index()"
   ]
  },
  {
   "cell_type": "code",
   "execution_count": 43,
   "id": "52a3fda5",
   "metadata": {},
   "outputs": [],
   "source": [
    "# NDP ( option2)\n",
    "group_data_sickFinal_NSP2=pd.DataFrame(g_data[g_data['fold2']==0]).reset_index()"
   ]
  },
  {
   "cell_type": "code",
   "execution_count": 44,
   "id": "edba07a8",
   "metadata": {},
   "outputs": [],
   "source": [
    "#Export : option1\n",
    "import pickle\n",
    "\n",
    "with open('./T20_BFC_BEHRT_group_data_sickFinal_NSP_op1_over40.pkl', 'wb') as f:\n",
    "    # Pickle the 'data' dictionary using the highest protocol available.\n",
    "    pickle.dump(group_data_sickFinal_NSP1, f)\n",
    "\n",
    "\n",
    "# import pandas as pd\n",
    "# import pickle \n",
    "# # refer to the data preprocessing\n",
    "\n",
    "# with open('T20_BFC_BEHRT_group_data_sickFinal_NSP', 'rb') as f:\n",
    "#     data = pickle.load(f)\n",
    "# group_data_sickFinal_NSP = pd.DataFrame(data)\n"
   ]
  },
  {
   "cell_type": "code",
   "execution_count": 45,
   "id": "d5d979b7",
   "metadata": {},
   "outputs": [],
   "source": [
    "#Export : option2\n",
    "import pickle\n",
    "\n",
    "with open('./T20_BFC_BEHRT_group_data_sickFinal_NSP_op2_over40.pkl', 'wb') as f:\n",
    "    # Pickle the 'data' dictionary using the highest protocol available.\n",
    "    pickle.dump(group_data_sickFinal_NSP2, f)"
   ]
  },
  {
   "cell_type": "code",
   "execution_count": null,
   "id": "e6f6f720",
   "metadata": {},
   "outputs": [],
   "source": [
    "########################################################\n",
    "#########NDP : data preprocessing\n",
    "#######################################################"
   ]
  },
  {
   "cell_type": "code",
   "execution_count": 40,
   "id": "7c2c4604",
   "metadata": {},
   "outputs": [],
   "source": [
    "# option1\n",
    "import pandas as pd\n",
    "import pickle \n",
    "# refer to the data preprocessing : over 40 patients\n",
    "\n",
    "#with open('/home/skbae/cancer_conquerance/BEHRT/BEHRT/task/T20_BFC_BEHRT_group_data_sickFinal_mlm_op1.pkl', 'rb') as f:\n",
    "with open('./T20_BFC_BEHRT_group_data_sickFinal_NSP_op1_over40.pkl', 'rb') as f:    \n",
    "    data = pickle.load(f)\n",
    "    group_data_sickFinal_NSP1= pd.DataFrame(data)"
   ]
  },
  {
   "cell_type": "code",
   "execution_count": null,
   "id": "57f6e664",
   "metadata": {},
   "outputs": [],
   "source": [
    "# option 3 : all over 40 BERTopic\n",
    "\n",
    "# Export for BERtopic 100%over 40\n",
    "# group_data_sickFinal_F2=T20_BFC_over40_df_f\n",
    "# \n",
    "import pickle\n",
    "\n",
    "# with open('./T20_BFC_BEHRT_group_data_BERTopic_over40_all.pkl', 'wb') as f:\n",
    "#     # Pickle the 'data' dictionary using the highest protocol available.\n",
    "#     pickle.dump(T20_BFC_over40_df_f, f)\n",
    "\n",
    "with open('./T20_BFC_BEHRT_group_data_BERTopic_over40_all.pkl', 'rb') as f:    \n",
    "    data3 = pickle.load(f)\n",
    "    T20_BFC_over40_df_f= pd.DataFrame(data3)"
   ]
  },
  {
   "cell_type": "code",
   "execution_count": null,
   "id": "be9ed152",
   "metadata": {},
   "outputs": [],
   "source": [
    "# DOI :Disease of Interesting\n",
    "# 1. Both\n",
    "# 102 : Stomach cancer\n",
    "\n",
    "# 2.Male\n",
    "#161: Pancreatitis\n",
    "# 138: Atrial fibrillation and flutter\n",
    "\n",
    "# 3.Female \n",
    "# 138: Atrial fibrillation and flutter\n",
    "# 165: Parkinsons disease\n"
   ]
  },
  {
   "cell_type": "code",
   "execution_count": 41,
   "id": "173386d2",
   "metadata": {},
   "outputs": [],
   "source": [
    "# when use the 1st option \n",
    "group_data_sickFinal_NSP=group_data_sickFinal_NSP1"
   ]
  },
  {
   "cell_type": "code",
   "execution_count": 45,
   "id": "4e4b93da",
   "metadata": {},
   "outputs": [],
   "source": [
    "# when use the 2nd option \n",
    "group_data_sickFinal_NSP=group_data_sickFinal_NSP2"
   ]
  },
  {
   "cell_type": "code",
   "execution_count": 32,
   "id": "83a7609b",
   "metadata": {},
   "outputs": [],
   "source": [
    "# when using option 3\n",
    "\n",
    "group_data_sickFinal_over40 = T20_BFC_over40_df_f"
   ]
  }
 ],
 "metadata": {
  "kernelspec": {
   "display_name": "myNLP",
   "language": "python",
   "name": "python3"
  },
  "language_info": {
   "codemirror_mode": {
    "name": "ipython",
    "version": 3
   },
   "file_extension": ".py",
   "mimetype": "text/x-python",
   "name": "python",
   "nbconvert_exporter": "python",
   "pygments_lexer": "ipython3",
   "version": "3.9.16"
  }
 },
 "nbformat": 4,
 "nbformat_minor": 5
}
